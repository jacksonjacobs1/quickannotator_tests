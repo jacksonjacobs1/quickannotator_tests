{
 "cells": [
  {
   "cell_type": "code",
   "metadata": {
    "ExecuteTime": {
     "end_time": "2024-09-26T16:22:05.397607Z",
     "start_time": "2024-09-26T16:22:05.393529Z"
    }
   },
   "source": [
    "from functools import partial\n",
    "\n",
    "from sqlalchemy import Column, Table, create_engine, Integer, MetaData, Text, Index, insert, func\n",
    "from sqlalchemy.event import listen\n",
    "from sqlalchemy.orm import declarative_base\n",
    "\n",
    "from geoalchemy2 import Geometry, WKTElement\n",
    "from geoalchemy2 import load_spatialite\n",
    "import os\n",
    "import numpy as np\n",
    "from shapely.geometry import Polygon as ShapelyPolygon\n",
    "from shapely import wkb, wkt\n",
    "import numpy as np\n",
    "from shapely.affinity import translate\n",
    "from shapely.affinity import scale\n",
    "import random\n",
    "from tqdm import tqdm\n",
    "import shapely.plotting\n"
   ],
   "outputs": [],
   "execution_count": 23
  },
  {
   "metadata": {},
   "cell_type": "markdown",
   "source": "# Define models"
  },
  {
   "cell_type": "code",
   "metadata": {
    "ExecuteTime": {
     "end_time": "2024-09-26T16:01:04.677228Z",
     "start_time": "2024-09-26T16:01:04.672306Z"
    }
   },
   "source": [
    "metadata = MetaData()\n",
    "Base = declarative_base(metadata=metadata)\n",
    "class Polygon(Base):\n",
    "    __tablename__ = \"polygons\"\n",
    "    id = Column(Integer, primary_key=True)\n",
    "    geom = Column(Geometry(srid=4326, geometry_type=\"POLYGON\"))\n",
    "    image_id = Column(Integer)"
   ],
   "outputs": [],
   "execution_count": 2
  },
  {
   "cell_type": "code",
   "metadata": {
    "ExecuteTime": {
     "end_time": "2024-09-26T16:01:05.419514Z",
     "start_time": "2024-09-26T16:01:05.415921Z"
    }
   },
   "source": [
    "def generate_random_polygon(max_area=10):\n",
    "    num_points = random.randint(10, 20)  # Polygons need at least 3 points\n",
    "\n",
    "    # Generate points in polar coordinates\n",
    "    radii = np.sqrt(np.random.uniform(0, 1, num_points))  # Square root ensures uniform distribution\n",
    "    angles = np.linspace(0, 2 * np.pi, num_points, endpoint=False)\n",
    "\n",
    "    # Convert polar coordinates to Cartesian coordinates\n",
    "    points = [(r * np.cos(a), r * np.sin(a)) for r, a in zip(radii, angles)]\n",
    "\n",
    "    # Sort points to form a simple polygon\n",
    "    sorted_points = sorted(points, key=lambda p: np.arctan2(p[1], p[0]))\n",
    "\n",
    "    # Create a Polygon and scale its area\n",
    "    polygon = ShapelyPolygon(sorted_points)\n",
    "\n",
    "    # Calculate scaling factor\n",
    "    current_area = polygon.area\n",
    "    if current_area > 0:\n",
    "        scaling_factor = np.sqrt(max_area / current_area)\n",
    "        scaled_points = [(x * scaling_factor, y * scaling_factor) for x, y in sorted_points]\n",
    "        polygon = ShapelyPolygon(scaled_points)\n",
    "\n",
    "\n",
    "    translation_x = random.uniform(0, 50)\n",
    "    translation_y = random.uniform(0, 50)\n",
    "    polygon = translate(polygon, xoff=translation_x, yoff=translation_y)\n",
    "\n",
    "    return polygon"
   ],
   "outputs": [],
   "execution_count": 3
  },
  {
   "metadata": {
    "ExecuteTime": {
     "end_time": "2024-09-26T16:01:06.197872Z",
     "start_time": "2024-09-26T16:01:06.194792Z"
    }
   },
   "cell_type": "code",
   "source": [
    "def insert_n_polygons(n_polygons, batch_size, connection, image_ids: list):\n",
    "    polygons_to_insert = []\n",
    "\n",
    "    for _ in tqdm(range(n_polygons)):\n",
    "        polygon = generate_random_polygon()\n",
    "        wkb = wkb.dumps(polygon)\n",
    "        image_id = int(np.random.choice(image_ids))\n",
    "        polygons_to_insert.append({\"geom\": WKTElement(wkt), \"image_id\": image_id})\n",
    "        \n",
    "        \n",
    "        if len(polygons_to_insert) == batch_size:\n",
    "            stmt = insert(Polygon).values(polygons_to_insert)\n",
    "            connection.execute(stmt)\n",
    "            # connection.execute(\"INSERT INTO polygons (geom, class_id) VALUES (GeomFromText(?, 4326), ?);\", polygons)"
   ],
   "outputs": [],
   "execution_count": 4
  },
  {
   "metadata": {},
   "cell_type": "markdown",
   "source": "# Initialize Database"
  },
  {
   "metadata": {
    "ExecuteTime": {
     "end_time": "2024-09-26T16:01:08.460913Z",
     "start_time": "2024-09-26T16:01:07.616872Z"
    }
   },
   "cell_type": "code",
   "source": [
    "os.environ['SPATIALITE_LIBRARY_PATH'] = '/usr/lib/x86_64-linux-gnu/mod_spatialite.so'\n",
    "\n",
    "db_connection_url = \"sqlite:///db.sqlite\"\n",
    "engine = create_engine(db_connection_url, echo=True)\n",
    "load_spatialite_wgs84 = partial(load_spatialite, init_mode=\"WGS84\")\n",
    "listen(engine, \"connect\", load_spatialite_wgs84)\n",
    "conn = engine.connect()\n",
    "\n",
    "metadata.drop_all(conn, checkfirst=True)\n",
    "metadata.create_all(conn)"
   ],
   "outputs": [
    {
     "name": "stdout",
     "output_type": "stream",
     "text": [
      "2024-09-26 12:01:08,391 INFO sqlalchemy.engine.Engine BEGIN (implicit)\n",
      "2024-09-26 12:01:08,392 INFO sqlalchemy.engine.Engine PRAGMA main.table_info(\"polygons\")\n",
      "2024-09-26 12:01:08,393 INFO sqlalchemy.engine.Engine [raw sql] ()\n",
      "2024-09-26 12:01:08,394 INFO sqlalchemy.engine.Engine PRAGMA temp.table_info(\"polygons\")\n",
      "2024-09-26 12:01:08,395 INFO sqlalchemy.engine.Engine [raw sql] ()\n",
      "2024-09-26 12:01:08,397 INFO sqlalchemy.engine.Engine PRAGMA main.table_info(\"polygons\")\n",
      "2024-09-26 12:01:08,398 INFO sqlalchemy.engine.Engine [raw sql] ()\n",
      "2024-09-26 12:01:08,399 INFO sqlalchemy.engine.Engine PRAGMA temp.table_info(\"polygons\")\n",
      "2024-09-26 12:01:08,400 INFO sqlalchemy.engine.Engine [raw sql] ()\n",
      "2024-09-26 12:01:08,401 INFO sqlalchemy.engine.Engine \n",
      "CREATE TABLE polygons (\n",
      "\tid INTEGER NOT NULL, \n",
      "\tgeom GEOMETRY, \n",
      "\timage_id INTEGER, \n",
      "\tPRIMARY KEY (id)\n",
      ")\n",
      "\n",
      "\n",
      "2024-09-26 12:01:08,402 INFO sqlalchemy.engine.Engine [no key 0.00085s] ()\n",
      "2024-09-26 12:01:08,407 INFO sqlalchemy.engine.Engine SELECT RecoverGeometryColumn(?, ?, ?, ?, ?) AS \"RecoverGeometryColumn_1\"\n",
      "2024-09-26 12:01:08,407 INFO sqlalchemy.engine.Engine [generated in 0.00040s] ('polygons', 'geom', 4326, 'POLYGON', 'XY')\n",
      "2024-09-26 12:01:08,429 INFO sqlalchemy.engine.Engine SELECT CreateSpatialIndex(?, ?) AS \"CreateSpatialIndex_1\"\n",
      "2024-09-26 12:01:08,429 INFO sqlalchemy.engine.Engine [generated in 0.00052s] ('polygons', 'geom')\n"
     ]
    }
   ],
   "execution_count": 5
  },
  {
   "metadata": {
    "ExecuteTime": {
     "end_time": "2024-09-26T16:01:16.078302Z",
     "start_time": "2024-09-26T16:01:16.055157Z"
    }
   },
   "cell_type": "code",
   "source": [
    "image_ids = np.arange(5)\n",
    "insert_n_polygons(5, 5, conn, image_ids)"
   ],
   "outputs": [
    {
     "name": "stderr",
     "output_type": "stream",
     "text": [
      "  0%|          | 0/5 [00:00<?, ?it/s]"
     ]
    },
    {
     "name": "stdout",
     "output_type": "stream",
     "text": [
      "2024-09-26 12:01:16,075 INFO sqlalchemy.engine.Engine INSERT INTO polygons (geom, image_id) VALUES (GeomFromEWKT(?), ?), (GeomFromEWKT(?), ?), (GeomFromEWKT(?), ?), (GeomFromEWKT(?), ?), (GeomFromEWKT(?), ?)\n",
      "2024-09-26 12:01:16,075 INFO sqlalchemy.engine.Engine [no key 0.00048s] ('SRID=4326;POLYGON((27.8509585143207516 42.9412974135204948, 27.3037695464696029 42.1772255115394685, 28.4298779279636946 42.4207257867897525, 28.2178 ... (541 characters truncated) ... 7095 44.7561420717759617, 27.4965613325925844 44.0182742282461135, 26.6626332546868952 43.5568324372633384, 27.8509585143207516 42.9412974135204948))', 0, 'SRID=4326;POLYGON((8.4941634218920719 18.7547265569269612, 9.8379642528503393 18.6030190658955803, 9.7286726866659183 17.8011008539759672, 10.0877084 ... (452 characters truncated) ... 4267939 21.3960616115115592, 9.9950838572930216 19.6600420531747524, 8.2658306490798807 19.6483016950457881, 8.4941634218920719 18.7547265569269612))', 0, 'SRID=4326;POLYGON((21.9447165106435129 46.2380618641254273, 22.6558700713466692 45.0091030934131666, 23.9548388693577756 44.3501047144927369, 24.9601 ... (213 characters truncated) ... 4121 48.6487977809800540, 23.3280915186746078 48.0901525324384806, 23.4914726421043980 47.1828100890526301, 21.9447165106435129 46.2380618641254273))', 1, 'SRID=4326;POLYGON((16.3816607784575901 25.7214113495642245, 17.1802969223353479 25.2225894761516720, 18.2142777499269251 25.5297190397393798, 18.4381 ... (500 characters truncated) ... 7455 28.1442171292405909, 17.9427814892799766 26.9441561630610700, 17.9944354225152168 26.6168844917305698, 16.3816607784575901 25.7214113495642245))', 4, 'SRID=4326;POLYGON((20.1672052953379399 19.8780369815868312, 19.7549862480697058 18.9728894699479795, 20.4198534872123894 18.6401576569105210, 21.1724 ... (582 characters truncated) ... 8392 20.9179731891959619, 19.5678599004194105 21.0527429905097598, 19.4715411756203061 20.3680204242205356, 20.1672052953379399 19.8780369815868312))', 1)\n"
     ]
    },
    {
     "name": "stderr",
     "output_type": "stream",
     "text": [
      "100%|██████████| 5/5 [00:00<00:00, 302.29it/s]\n"
     ]
    }
   ],
   "execution_count": 6
  },
  {
   "metadata": {
    "ExecuteTime": {
     "end_time": "2024-09-26T16:01:18.334832Z",
     "start_time": "2024-09-26T16:01:18.328890Z"
    }
   },
   "cell_type": "code",
   "source": [
    "\n",
    "conn.commit()\n",
    "conn.close()"
   ],
   "outputs": [
    {
     "name": "stdout",
     "output_type": "stream",
     "text": [
      "2024-09-26 12:01:18,329 INFO sqlalchemy.engine.Engine COMMIT\n"
     ]
    }
   ],
   "execution_count": 7
  },
  {
   "metadata": {
    "ExecuteTime": {
     "end_time": "2024-09-26T16:20:14.630242Z",
     "start_time": "2024-09-26T16:20:14.619932Z"
    }
   },
   "cell_type": "code",
   "source": [
    "polygons_table = Table('polygons', metadata, autoload=True, autoload_with=engine)\n",
    "\n",
    "with engine.connect() as conn:\n",
    "    result = conn.execute(polygons_table.select())\n",
    "    \n",
    "    ps = result.fetchall()\n",
    "    \n",
    "for polygon in ps:\n",
    "    print(wkb.loads(polygon[1].data))"
   ],
   "outputs": [
    {
     "name": "stdout",
     "output_type": "stream",
     "text": [
      "2024-09-26 12:20:14,622 INFO sqlalchemy.engine.Engine BEGIN (implicit)\n",
      "2024-09-26 12:20:14,624 INFO sqlalchemy.engine.Engine SELECT polygons.id, AsEWKB(polygons.geom) AS geom, polygons.image_id \n",
      "FROM polygons\n",
      "2024-09-26 12:20:14,625 INFO sqlalchemy.engine.Engine [cached since 441.9s ago] ()\n",
      "2024-09-26 12:20:14,627 INFO sqlalchemy.engine.Engine ROLLBACK\n",
      "POLYGON ((27.85095851432075 42.941297413520495, 27.303769546469603 42.17722551153947, 28.429877927963695 42.42072578678975, 28.217863859519028 41.1362374778723, 28.898778286083893 40.707708016138305, 29.227727515611083 42.65005551968988, 29.902996011378313 41.92259309575784, 30.78296188999347 41.84090645472322, 30.92200106613358 42.52481620231877, 30.886339454223467 43.14991671846463, 31.029997941685917 43.81209260881763, 31.034900335281584 44.65501854520234, 29.984181752683256 44.50150436898478, 29.68160794360101 45.442111194137865, 28.926239453007426 45.260718421143224, 28.757390805986194 43.93359841299797, 27.62251086697971 44.75614207177596, 27.496561332592584 44.01827422824611, 26.662633254686895 43.55683243726334, 27.85095851432075 42.941297413520495))\n",
      "POLYGON ((8.494163421892072 18.75472655692696, 9.83796425285034 18.60301906589558, 9.728672686665918 17.801100853975967, 10.087708434898119 16.78181717181623, 10.960138533590047 17.129324139046318, 11.590007302926464 17.533575741042196, 11.382065435172631 18.62229199875548, 11.495189292981356 18.899271418459914, 12.705098775400868 19.180172729706328, 12.518080565299789 19.857344230979358, 12.49448464051802 20.752157560197, 11.873662665757083 21.396426479812067, 10.825239863636131 19.775232826984883, 10.119983459671195 21.465093341743483, 9.096737817426794 21.39606161151156, 9.995083857293022 19.660042053174752, 8.26583064907988 19.648301695045788, 8.494163421892072 18.75472655692696))\n",
      "POLYGON ((21.944716510643513 46.23806186412543, 22.65587007134667 45.00910309341317, 23.954838869357776 44.35010471449274, 24.96011060102184 45.55087967814481, 25.913347049001178 45.91794249054082, 25.848535927438903 46.937520265744915, 26.56204842480656 48.37399310101454, 24.71418774136991 47.78566490465031, 24.080808501480412 48.648797780980054, 23.328091518674608 48.09015253243848, 23.491472642104398 47.18281008905263, 21.944716510643513 46.23806186412543))\n",
      "POLYGON ((16.38166077845759 25.721411349564224, 17.180296922335348 25.222589476151672, 18.214277749926925 25.52971903973938, 18.43812491928105 24.326661546925944, 19.274341090331223 24.164689868388024, 20.14456696218036 24.36069095479671, 19.878036307349753 25.74750738433146, 20.585965263721842 25.982115945468838, 20.47967244032481 26.61688449173057, 21.030878923569077 27.413588366995132, 20.143735699540258 27.709209861120762, 19.905503112072857 28.45900729402521, 19.136990399934273 28.290124641712953, 18.70064668850074 27.418272499505694, 18.196928819718018 27.734099172300553, 17.021748858448746 28.14421712924059, 17.942781489279977 26.94415616306107, 17.994435422515217 26.61688449173057, 16.38166077845759 25.721411349564224))\n",
      "POLYGON ((20.16720529533794 19.87803698158683, 19.754986248069706 18.97288946994798, 20.41985348721239 18.64015765691052, 21.172448388712816 18.820650759234333, 21.675219270220147 17.957998323681686, 22.22344156791234 18.680765683900884, 22.407405708276354 19.360252248465784, 23.19124748757998 19.266561450652464, 23.80001968858895 19.677630917728592, 24.055986906207792 20.368020424220536, 22.880754576048243 20.759722589588243, 23.46492485551552 21.668317644546352, 22.00917790709254 20.82767505419689, 22.359285971101485 22.473361247852814, 21.675219270220147 22.19633251538875, 20.930474238303205 22.66010994834437, 21.16104613473307 21.075719031896924, 20.91827422739484 20.917973189195962, 19.56785990041941 21.05274299050976, 19.471541175620306 20.368020424220536, 20.16720529533794 19.87803698158683))\n"
     ]
    }
   ],
   "execution_count": 22
  },
  {
   "metadata": {
    "ExecuteTime": {
     "end_time": "2024-09-26T16:27:02.346209Z",
     "start_time": "2024-09-26T16:27:02.341567Z"
    }
   },
   "cell_type": "code",
   "source": "wkb.loads(ps[4][1].data)",
   "outputs": [
    {
     "data": {
      "text/plain": [
       "<POLYGON ((20.167 19.878, 19.755 18.973, 20.42 18.64, 21.172 18.821, 21.675 ...>"
      ],
      "image/svg+xml": "<svg xmlns=\"http://www.w3.org/2000/svg\" xmlns:xlink=\"http://www.w3.org/1999/xlink\" width=\"100.0\" height=\"100.0\" viewBox=\"19.2834567106338 17.76991385869518 4.960614660560498 5.078280554635697\" preserveAspectRatio=\"xMinYMin meet\"><g transform=\"matrix(1,0,0,-1,0,40.618108272026056)\"><path fill-rule=\"evenodd\" fill=\"#66cc99\" stroke=\"#555555\" stroke-width=\"0.10156561109271393\" opacity=\"0.6\" d=\"M 20.16720529533794,19.87803698158683 L 19.754986248069706,18.97288946994798 L 20.41985348721239,18.64015765691052 L 21.172448388712816,18.820650759234333 L 21.675219270220147,17.957998323681686 L 22.22344156791234,18.680765683900884 L 22.407405708276354,19.360252248465784 L 23.19124748757998,19.266561450652464 L 23.80001968858895,19.677630917728592 L 24.055986906207792,20.368020424220536 L 22.880754576048243,20.759722589588243 L 23.46492485551552,21.668317644546352 L 22.00917790709254,20.82767505419689 L 22.359285971101485,22.473361247852814 L 21.675219270220147,22.19633251538875 L 20.930474238303205,22.66010994834437 L 21.16104613473307,21.075719031896924 L 20.91827422739484,20.917973189195962 L 19.56785990041941,21.05274299050976 L 19.471541175620306,20.368020424220536 L 20.16720529533794,19.87803698158683 z\" /></g></svg>"
     },
     "execution_count": 28,
     "metadata": {},
     "output_type": "execute_result"
    }
   ],
   "execution_count": 28
  },
  {
   "metadata": {},
   "cell_type": "code",
   "outputs": [],
   "execution_count": null,
   "source": ""
  }
 ],
 "metadata": {
  "kernelspec": {
   "display_name": "venv",
   "language": "python",
   "name": "python3"
  },
  "language_info": {
   "codemirror_mode": {
    "name": "ipython",
    "version": 3
   },
   "file_extension": ".py",
   "mimetype": "text/x-python",
   "name": "python",
   "nbconvert_exporter": "python",
   "pygments_lexer": "ipython3",
   "version": "3.10.12"
  }
 },
 "nbformat": 4,
 "nbformat_minor": 2
}
