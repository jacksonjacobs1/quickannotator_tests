{
 "cells": [
  {
   "cell_type": "code",
   "execution_count": 47,
   "id": "66a3e598-5e73-40b1-8126-b1a043f941cc",
   "metadata": {},
   "outputs": [],
   "source": [
    "import sqlite3\n",
    "import random\n",
    "from shapely.geometry import Polygon\n",
    "from shapely.wkt import dumps\n",
    "import numpy as np\n",
    "from shapely.affinity import translate\n",
    "\n",
    "\n",
    "from shapely.affinity import scale\n"
   ]
  },
  {
   "cell_type": "code",
   "execution_count": 2,
   "id": "874418cf-9f46-4207-a216-55849aee51d2",
   "metadata": {},
   "outputs": [],
   "source": [
    "from tqdm import tqdm"
   ]
  },
  {
   "cell_type": "code",
   "execution_count": 3,
   "id": "b7a2c3fa-b493-4c01-96cd-78f2b914195c",
   "metadata": {},
   "outputs": [
    {
     "data": {
      "text/plain": [
       "<sqlite3.Cursor at 0x7f23f6c15420>"
      ]
     },
     "execution_count": 3,
     "metadata": {},
     "output_type": "execute_result"
    }
   ],
   "source": [
    "# Connect to the SQLite database\n",
    "conn = sqlite3.connect('/opt/sl/spatialite.db')\n",
    "conn.enable_load_extension(True)\n",
    "conn.load_extension('mod_spatialite')\n",
    "cursor = conn.cursor()\n",
    "\n",
    "# Initialize SpatiaLite metadata\n",
    "cursor.execute(\"SELECT InitSpatialMetaData();\")"
   ]
  },
  {
   "cell_type": "code",
   "execution_count": 4,
   "id": "a954200b-8d40-4312-b55c-b3132e1f11d0",
   "metadata": {},
   "outputs": [
    {
     "name": "stderr",
     "output_type": "stream",
     "text": [
      "AddGeometryColumn: \"duplicate column name: geom\"\n"
     ]
    },
    {
     "data": {
      "text/plain": [
       "<sqlite3.Cursor at 0x7f23f6c15420>"
      ]
     },
     "execution_count": 4,
     "metadata": {},
     "output_type": "execute_result"
    }
   ],
   "source": [
    "# Create a table to store the polygons\n",
    "cursor.execute(\"\"\"\n",
    "CREATE TABLE IF NOT EXISTS polygons (\n",
    "    id INTEGER PRIMARY KEY AUTOINCREMENT,\n",
    "    geom GEOMETRY\n",
    ");\n",
    "\"\"\")\n",
    "cursor.execute(\"SELECT AddGeometryColumn('polygons', 'geom', 4326, 'POLYGON', 'XY');\")"
   ]
  },
  {
   "cell_type": "code",
   "execution_count": 5,
   "id": "e7707a88-9fbf-4c35-bd7e-3e610ca6c487",
   "metadata": {},
   "outputs": [],
   "source": [
    "def generate_random_polygon(max_area=10):\n",
    "    num_points = random.randint(10, 20)  # Polygons need at least 3 points\n",
    "\n",
    "    # Generate points in polar coordinates\n",
    "    radii = np.sqrt(np.random.uniform(0, 1, num_points))  # Square root ensures uniform distribution\n",
    "    angles = np.linspace(0, 2 * np.pi, num_points, endpoint=False)\n",
    "\n",
    "    # Convert polar coordinates to Cartesian coordinates\n",
    "    points = [(r * np.cos(a), r * np.sin(a)) for r, a in zip(radii, angles)]\n",
    "\n",
    "    # Sort points to form a simple polygon\n",
    "    sorted_points = sorted(points, key=lambda p: np.arctan2(p[1], p[0]))\n",
    "\n",
    "    # Create a Polygon and scale its area\n",
    "    polygon = Polygon(sorted_points)\n",
    "\n",
    "    # Calculate scaling factor\n",
    "    current_area = polygon.area\n",
    "    if current_area > 0:\n",
    "        scaling_factor = np.sqrt(max_area / current_area)\n",
    "        scaled_points = [(x * scaling_factor, y * scaling_factor) for x, y in sorted_points]\n",
    "        polygon = Polygon(scaled_points)\n",
    "\n",
    "\n",
    "    translation_x = random.uniform(0, 50)\n",
    "    translation_y = random.uniform(0, 50)\n",
    "    polygon = translate(polygon, xoff=translation_x, yoff=translation_y)\n",
    "\n",
    "    return polygon\n",
    "    "
   ]
  },
  {
   "cell_type": "code",
   "execution_count": 6,
   "id": "1b3f98ed-6444-4384-908f-fcb9ee846ae7",
   "metadata": {},
   "outputs": [
    {
     "name": "stdout",
     "output_type": "stream",
     "text": [
      "9.999999999999988\n"
     ]
    },
    {
     "data": {
      "image/svg+xml": [
       "<svg xmlns=\"http://www.w3.org/2000/svg\" xmlns:xlink=\"http://www.w3.org/1999/xlink\" width=\"100.0\" height=\"100.0\" viewBox=\"45.675912914517056 -1.6239647556902737 4.610879590190322 3.940263292177698\" preserveAspectRatio=\"xMinYMin meet\"><g transform=\"matrix(1,0,0,-1,0,0.6923337807971504)\"><path fill-rule=\"evenodd\" fill=\"#66cc99\" stroke=\"#555555\" stroke-width=\"0.09221759180380644\" opacity=\"0.6\" d=\"M 46.47103926538153,-0.6518277624702502 L 47.28937660749484,-1.4531914375350767 L 48.29671421804955,-0.8988903557585011 L 49.03270920525622,-0.4611498044735193 L 49.61308243415215,0.3740922935440649 L 50.11601918655218,1.9964051639858584 L 48.33414313207678,1.7622692953625858 L 47.307523634509266,2.145525218332227 L 45.846686232672255,1.8536313803107913 L 46.116531838493785,0.37409229354406515 L 46.47103926538153,-0.6518277624702502 z\" /></g></svg>"
      ],
      "text/plain": [
       "<POLYGON ((46.471 -0.652, 47.289 -1.453, 48.297 -0.899, 49.033 -0.461, 49.61...>"
      ]
     },
     "execution_count": 6,
     "metadata": {},
     "output_type": "execute_result"
    }
   ],
   "source": [
    "p=generate_random_polygon(10)\n",
    "print(p.area)\n",
    "p"
   ]
  },
  {
   "cell_type": "code",
   "execution_count": 44,
   "id": "d68a34ef-e8be-40c5-af69-35e32fce4870",
   "metadata": {},
   "outputs": [
    {
     "name": "stderr",
     "output_type": "stream",
     "text": [
      "100%|███████████████████████████████████████████████████████████████████████████████████████████████████████████████████████████████████████████████████████████████████████████████████████| 100000/100000 [00:37<00:00, 2678.15it/s]"
     ]
    },
    {
     "name": "stdout",
     "output_type": "stream",
     "text": [
      "CPU times: user 37.9 s, sys: 752 ms, total: 38.7 s\n",
      "Wall time: 37.4 s\n"
     ]
    },
    {
     "name": "stderr",
     "output_type": "stream",
     "text": [
      "\n"
     ]
    }
   ],
   "source": [
    "%%time\n",
    "# Insert 10,000 random polygons in batches of 5,000\n",
    "batch_size = 10_000\n",
    "polygons = []\n",
    "\n",
    "for _ in tqdm(range(100_000)):\n",
    "    polygon = generate_random_polygon()\n",
    "    wkt = dumps(polygon)\n",
    "    polygons.append((wkt,))\n",
    "    \n",
    "    if len(polygons) == batch_size:\n",
    "        cursor.executemany(\"INSERT INTO polygons (geom) VALUES (GeomFromText(?, 4326));\", polygons)\n",
    "        polygons = []\n",
    "\n",
    "# Insert any remaining polygons\n",
    "if polygons:\n",
    "    cursor.executemany(\"INSERT INTO polygons (geom) VALUES (GeomFromText(?, 4326));\", polygons)\n",
    "\n",
    "# Commit changes and close the connection\n",
    "conn.commit()"
   ]
  },
  {
   "cell_type": "code",
   "execution_count": 25,
   "id": "1264bce6-e2f4-422b-bc97-c663f37f36af",
   "metadata": {},
   "outputs": [
    {
     "name": "stdout",
     "output_type": "stream",
     "text": [
      "ID: 60520, Geometry (BLOB): b'\\x00\\x01\\xe6\\x10\\x00\\x00\\x14\\\\\\x90O\\x8e\\xcd\\xf5?\\x11)\\xc6\\xb7`\\xc9\\x14@\\xcc\\xa9!\\x9c\\x84\\x92\\x15@\\xde\\x04e*O\"$@|\\x03\\x00\\x00\\x00\\x01\\x00\\x00\\x00\\x10\\x00\\x00\\x00\\xe2s\\x9a\\x86\\xe7)\\xf6?cPg\\xb2\\xbe \\x1d@\\xf0H\\x13X|\\x06\\xf7?t\\xca\\xc19\\x8a\\xb6\\x19@3\\xf3D\\\\k6\\x01@M\\x92\\xf2\\x15\\x17\\xe1\\x17@\\xabcB\\xd4+\\xea\\x06@\\x11)\\xc6\\xb7`\\xc9\\x14@\\x05\\xe3\\xb6i\\xd4\\xee\\n@\\xde:3=\\xf1\\x98\\x1b@\\rtt\\x11t\\x17\\x0e@\\x08K\\xeb\\xb3\\xfa\\xc3\\x1b@\\x8fA\\xb0\\x9a$ \\x11@\\x817\\xb7>g\\x8a\\x1c@\\xcc\\xa9!\\x9c\\x84\\x92\\x15@R\\xe3\\xdaW\\xd6\\x9a\\x1e@\\xd9\\xdb\\xf6b0\\\\\\x12@7\\xa5\\x16\\xf4\\xfd\\x9b @\\x9c\\x98@`{E\\x10@\\xc9X\\x7f\\xef\\x13g!@\\xf8;\\x03\\x08\\x15B\\x0f@\\xde\\x04e*O\"$@\\x9a\\xff\\x92lB\\t\\x07@w,\\xaf\\xbd3\\xec#@<\\x95\\x95\\x1f\\x9b\\x19\\x02@\\x9cU\\\\\\xe2\\xeaG\"@\\x14\\\\\\x90O\\x8e\\xcd\\xf5?\\xc2\\x08\\r\\xa6\\xfc\\xdb!@?x\\xa5\\xe5$g\\xf7?\\x14\\x10\\xbc0\\t\\x02 @\\xe2s\\x9a\\x86\\xe7)\\xf6?cPg\\xb2\\xbe \\x1d@\\xfe'\n",
      "ID: 98536, Geometry (BLOB): b'\\x00\\x01\\xe6\\x10\\x00\\x00\\xf8\\xdbg1\\xe3\\x01!@ \\x88E\\x02!\\xdd @]\\x1d=\\x9b\\x04\\xcb*@\\xc7\\x83)1\\x84\\x92)@|\\x03\\x00\\x00\\x00\\x01\\x00\\x00\\x00\\x0f\\x00\\x00\\x00\\x0f\\x8b\\xa1W\\x1f=$@\\x98\\xc4\\x9a\\xaes\\xb4$@\\x8et`\\x82\\x83/$@\\xa5\\x88\\xeb=s\\xb8#@O\\xd6\\\\-lk$@ \\x88E\\x02!\\xdd @\\x97v\\xc3NV\\xbc%@\\x15\\x02\\xda\\xff\\x9d\\xec#@\\x81K\\xf7k\\xc0^(@\\xfb\\x899\\x11 \\x96!@0U\\xa9\\x04.\\x03(@xgBK/\\x08$@]\\x1d=\\x9b\\x04\\xcb*@\\xdc\\xe5\\x9f\\xc2\\xeeF%@8\\x06a\\xad\\xe5=)@\\xd2\\xbf\\xf3\\x90=\\x1d\\'@\\xfb\\xe6K\\xe2\\xf9M(@\\x9e\\x8b\\xefE\\xb4\\xe2(@N\\xef\\xf9\\x04Dh&@\\xc7\\x83)1\\x84\\x92)@\\x11\\xd8\\x80\\x13\\xa2\\x88$@\\xe2\\x9e\\x0b\\xb2\\xc10)@6\\xd82\\xea\\xd9\\xc4\"@\\xbb\\t\\xac\\xf4-\\x9c(@\\xf8\\xdbg1\\xe3\\x01!@\\xf8\\xb17\\xee\\xc9g\\'@f\\xb3\\x9d\\xa5\\x93d#@\\xdc\\xe5\\x9f\\xc2\\xeeF%@\\x0f\\x8b\\xa1W\\x1f=$@\\x98\\xc4\\x9a\\xaes\\xb4$@\\xfe'\n",
      "ID: 32780, Geometry (BLOB): b'\\x00\\x01\\xe6\\x10\\x00\\x00\\xd9\\xa1m<$\\xc1:@\\xbe\\xd5\\xda\\xe0\\\\\\xa46@\\xad\\x9e\\xca\\xc4\\x01\\x0c?@\\xe0L\\xc1Z\\xaf\\xb6;@|\\x03\\x00\\x00\\x00\\x01\\x00\\x00\\x00\\x0e\\x00\\x00\\x00\\x06\\x06A\\x17QM<@.N6\\xac\\xe6H9@\\xd9\\xa1m<$\\xc1:@\\xb8\\x9fI\\x8a\\xd7\\x8f7@\\x13g\\x95$\\xdd\\x84<@\\t\\x1f#\\x0b\\xa5\\x8a8@1\\xe8\\xb4\\x95\\x8c0=@\\xbe\\xd5\\xda\\xe0\\\\\\xa46@\\x8d\\xef\\x1d\\xf2\\xe6]>@\\x1d\\xae\\xf8a\\xeb97@\\x12\\xbao\\x80z\\xb4>@\\x8c\\xecY\\xdc\\xb1r8@\\xe1+\\xf0\\x95\\x13 >@$\\x9aUS\\x9fk9@\\xad\\x9e\\xca\\xc4\\x01\\x0c?@\\x1cv\\xff\\x07}\\x92:@\\x8a$\\xb7\\x0b\\xbb\\x8f=@\\xa5\\xf9\\xdba\\xa2r:@\\xb1i!\\x0bx!=@\\xe0L\\xc1Z\\xaf\\xb6;@\\xa9j\\xb7\\x1f\\x1a\\x08<@\\x1eW\\x1d\\xe1\\x91\\x95;@\\t%D\\xf8\\x16d;@\\x17\\x9a\\xe2\\x14\\x0b\\xb7:@\\x1d\\xe7\\xbc\\xb7\\xefG<@fXgx\\xab\\x8f9@\\x06\\x06A\\x17QM<@.N6\\xac\\xe6H9@\\xfe'\n",
      "ID: 55405, Geometry (BLOB): b'\\x00\\x01\\xe6\\x10\\x00\\x00\\xbe{\\x15BAM@@\\xe1\\xba3\\xefv\\x8cA@\\xcf\\xf0_\\xbe^\\x90B@t\\x86YE\\x19\\xc5C@|\\x03\\x00\\x00\\x00\\x01\\x00\\x00\\x00\\x13\\x00\\x00\\x00\\xf9\\xf2\\xc4\\x91\\x8e_@@\\xb1r\\xcd\\xb2\\xcf>B@\\x01\\xffE\\x01\\\\\\xb5@@\\xa6Ib\\xb9\\xfa\\x00B@9N\\xd9\\xb1\\xef\\x0cA@\\xe4\\xe8I\\xc8\\xc4\\xe9A@p\\xed\\xeb\\xcd\\x90gA@r\\r\\x8d\\xe1-AB@\\x84\\xa8\\xd3\\xc5\\xbf\\xaaA@\\xe1\\xba3\\xefv\\x8cA@\\r/\\xb4_\\t\\x03B@\\xf2|\\xdc\\x1e\\xa2\\xb6A@\\xa7o2@\\\\;B@\\x86\\x82\\xe2_n\\x02B@\\xcf\\xf0_\\xbe^\\x90B@\\xd17\\x8c\\xc5\\xba?B@\\xa10\\xbaq\\x9d\\xffA@\\x90u\\x8d\\x81T\\xa5B@\\x80p\\x9f\\x93A\\xf3A@\\x8dp\\xd1\\xee\\xbe\\xd1B@\\xbe\\xbe\\x17\\xcdy(B@%\\x86|\\rb8C@\\x07\\x93\\x869\\\\\\xf7A@\\xdf]\\x8d\\x88\\xcd\\x7fC@\\xe5nh`\\xf7\\xabA@t\\x86YE\\x19\\xc5C@\\xca\\xf2\\xe2\\xf3\\xafXA@l\\xf1\\xd43\\xdc]C@Vz\\xce\\x0frLA@\\xb95z\\xe9\\xe3\\xf2B@\\xe7\\x0c\\x1c.`\\xb1@@?\\x7f\\xcb\\x05\\x06MC@(.HSQ\\x81@@\\xab\\x14\\x98\\x9b\\x8f\\xffB@\\xbe{\\x15BAM@@\\x90u\\x8d\\x81T\\xa5B@\\xf9\\xf2\\xc4\\x91\\x8e_@@\\xb1r\\xcd\\xb2\\xcf>B@\\xfe'\n",
      "ID: 53399, Geometry (BLOB): b'\\x00\\x01\\xe6\\x10\\x00\\x00h\\xddU\\xe9!\\x9f\\xc7\\xbf_f\\xef\\xcd=QB@\\xb1\\xb8l]\\xd3?\\x10@K\\xad[u\\x9fVD@|\\x03\\x00\\x00\\x00\\x01\\x00\\x00\\x00\\x0f\\x00\\x00\\x00\\x00^\\xbd\\x1d\\x85\\x06\\xdf?JA&\\xd1\\x91\\xceB@{~1f\\xed\\xcd\\xf1?1@[V\\x1e\\xa3B@l\\xa5\\x18w\\x11P\\xf9?\\xcb\\xce\\xf9\\x02\\x9f]B@\\xac\\x81\\xd3\\xff\\x15\\x9f\\x02@_f\\xef\\xcd=QB@\\xdfyty\\xfb\\xce\\x06@\\x9c\\xcc\\x1a\\xbe\\xe3\\x96B@p\\xc6Tn\\x00\\xe2\\x08@\\xac\\xe5\\xb1\\xf3\\x99\\xe0B@\\xa0\\x80mR\\x93\\xe5\\n@\\x8e\\x14z\\x04\\x82(C@\\xb1\\xb8l]\\xd3?\\x10@k\\xca\\xe3\\x82\\x18\\xabC@\\xc5,\\x97\\x0e\\x11\\xbe\\x08@\\xac\\x1c\\x88Y\\xed\\xe0C@;\\xc2\\x1bm?\\xdc\\x03@K\\xad[u\\x9fVD@\\xad\\xcd#\\x1fJ\\xb0\\xf7?\\xf1M\\xda/R,D@((\\xa6\\x8d\\x11\\xec\\xe1?2\\xf4\\xbdZ\\x9c\\x06D@h\\xddU\\xe9!\\x9f\\xc7\\xbf\\xe1\\xa4\\x102\\xb4\\xabC@\\xd8\\xac\\xd5\\x14\\xf0a\\xe0?\\x8e\\x14z\\x04\\x82(C@\\x00^\\xbd\\x1d\\x85\\x06\\xdf?JA&\\xd1\\x91\\xceB@\\xfe'\n",
      "ID: 37121, Geometry (BLOB): b'\\x00\\x01\\xe6\\x10\\x00\\x00\\xc7]\\x17\\xe6\\x11\\xdaG@\\x13\\xc9Mb\\xd9\\xb0@@@\\x90\\xe5|\\xee\\xcfI@\\xed\\xa0\\x858j\\xaeB@|\\x03\\x00\\x00\\x00\\x01\\x00\\x00\\x00\\x0e\\x00\\x00\\x00y\\x0b!\\x18\\xad\\xe8G@\\x1b\\xf5\\xa8\\xd8\\xa7cA@\\xcc\\x90\\x93\\xfb\\xa5\\xf9G@\\x12\\xc1\\xdf\\xf5\\x10\\xd5@@\\x80$\\xe37S\\x84H@\\x13\\xc9Mb\\xd9\\xb0@@\\xa4/\\'\\xe7\\x8c\\xf2H@\\xfe\\xb3\\xe4\\xc5\\xe1\\x00A@\\x1e\\xc4\\x8c\\xb2\\x82pI@\\x7f\\x0f4\\x8a\\xdd\\xcd@@.\\x85iX\\xaa\\xb9I@(\\xc3\\x90D\\xbe-A@o\\xcdZ\"\\xc5hI@{\\x88\\x88\\xd0i\\xa0A@@\\x90\\xe5|\\xee\\xcfI@\\xf7\\x8f\\xe3\\x06\\xc5\\x1eB@\\xfaC\\xfc\\xa4\\xca\\x8eI@\\xad\\x132\\xb9\\xd4\\x9eB@\\xb8\\x88\\xca\\xc2\\xf6\\xffH@\\xed\\xa0\\x858j\\xaeB@\\x1a\\x97<\\x82\\xb7\\xc5H@\\x1c\\x03\\x1d\\xba\\x8d\\xe3A@\\xee\\xdc#\\xc5I8H@p\\xfdf3D4B@\\xc7]\\x17\\xe6\\x11\\xdaG@\\xcb\\x1fhi\\xc5\\xe0A@y\\x0b!\\x18\\xad\\xe8G@\\x1b\\xf5\\xa8\\xd8\\xa7cA@\\xfe'\n",
      "ID: 40015, Geometry (BLOB): b'\\x00\\x01\\xe6\\x10\\x00\\x00\\xdc\\xb5\\x0c\\x9f\\xe2\\xba@@\\xfb\\xf9\\xbf\\x06B\\xec$@*+\\xf9j\\x10*C@DL\\xd4\\xcb\\xfb?.@|\\x03\\x00\\x00\\x00\\x01\\x00\\x00\\x00\\x0c\\x00\\x00\\x00fa\\xa4\\xd52\\xa8A@\\x8f1\\x13\\xeb\\x10\\x94(@\\xc0T\\xb0\\xd40jA@\\xb3\\xa9X\\x8cO9&@)\\x93\\x85G\\xa4\\xdeA@\\xfb\\xf9\\xbf\\x06B\\xec$@\\x02[\\xe1\\xe5\\x97xB@y\\xfeiXF\\x04%@*+\\xf9j\\x10*C@)2~\\xb8\\x8e\\x0c&@\\x0b\\x94A\\xa7`\\xc0B@W\\x12\\x8a\\xb0\\x13\\x00)@\\xaa\\xa9\\x1f\\xd8\\xb1\\x96B@\\x9c\\xefc\\x12\\xc3x*@\\xffoq\\xc4\\x98\\x9dB@DL\\xd4\\xcb\\xfb?.@]J\\x7f\\xf7y\\xebA@\\xbe\\xff{\\x85\\xd3\\xae+@\\xf9\\x8aF\\x98+\\x92A@\\xa8\\xb7G\\xa4I\\x0e+@\\xdc\\xb5\\x0c\\x9f\\xe2\\xba@@\\xd6\\xb7WL\\xd0\\x82*@fa\\xa4\\xd52\\xa8A@\\x8f1\\x13\\xeb\\x10\\x94(@\\xfe'\n",
      "ID: 27604, Geometry (BLOB): b'\\x00\\x01\\xe6\\x10\\x00\\x00\\xe1#\\x03d>\\x94E@\\x8e \\xa2Q\\x94\\x00G@#pst$\\xc6G@\\ts\\xd7G\\x82\\xe9H@|\\x03\\x00\\x00\\x00\\x01\\x00\\x00\\x00\\x14\\x00\\x00\\x00\\xe1#\\x03d>\\x94E@RH!\\x0b\\x00\\xddG@Z]\\xa7\\xb9\\xa4\\x9fE@\\x85\\xd1\\x11\\x11\\xf7\\x83G@\\xcck\\x8fF\\xfc\\xf8E@\\xf5\\xd6\\x16X\\x94`G@\\x90\\x8d\\xfe\\x06\\x01~F@\\xb4\\xc8\\xd9P\\x80\\xd8G@\\xa7\\xa9\\xab:\\xd0|F@\\x8e \\xa2Q\\x94\\x00G@\\xf7\\xc1\\x07%\\xce\\xc8F@2\\x0c\\x9aP_1G@!\\xc9\\xcf\\x80\\x045G@g\\xdcRj\\xd6\\x0eG@\\x92\\x9b\\x1c\\x89\\x9auG@\\xdf2\\x0b\\x85\\xc1VG@#pst$\\xc6G@\\xbc|H\\xdb\\xdc\\x9dG@Q \\x89\\xed\\xd7\\x15G@\\xef\\x85\\x9f\\xa2q\\x07H@\\xd3\\xb5tW\\x1fKG@\\\\\\xba\\x81\\xd0\\xcaFH@\\x0cqC\\x1e7JG@jq6\\x80\\\\\\x96H@-I66\\x80\\x1cG@0\\x06\\xa9F\\x86\\xdaH@\\xc9\\xcc\\xb1]\\x9b\\xbeF@\\xa7\\x87P9>\\xb5H@\\xd8P6\\rg\\x85F@\\xf5\\x13v\\x1c\\xa7\\xa6H@\\xa3\\r7\\x04o/F@\\ts\\xd7G\\x82\\xe9H@n\\xf0@\\xc4$\\xd6E@m\\x91\\x96\\x18(\\xd4H@\\xb8\\x92\\xa0\\x9d\\\\\\x9fE@\\x90R>:\\x13\\x8bH@\\x0b\\xd2\\t\\xe0Y\\xbcE@\\xdf5\\x0b\\xe31+H@\\xe1#\\x03d>\\x94E@RH!\\x0b\\x00\\xddG@\\xfe'\n",
      "ID: 40710, Geometry (BLOB): b'\\x00\\x01\\xe6\\x10\\x00\\x00\\xdf\\xd0\\xc8\\x86\\xae\\x82\\x07@{\\xc3\\xcc\\x98q\\n<@\\x80\\xb9\\x0f\\x823\\xe9 @U\\x95\\x0bz\\xdfT@@|\\x03\\x00\\x00\\x00\\x01\\x00\\x00\\x00\\x12\\x00\\x00\\x00\\xaf\\xa1\\xac\\x81uv\\x0b@[/\\x83/,\\x8c=@\\xf8\\xee,\\xdfe?\\x10@\\x81B\\xb4\\xc9M\\xee<@\\x97N.\\xaf(\\x84\\x12@#a\\xa7\\xa7\\xf5{<@y\\xfah\\xdd\"\\xd5\\x14@{\\xc3\\xcc\\x98q\\n<@\\xc0x^\\xcd\\xc2\\xab\\x17@\\xb8\\xb1\\xd1\\xc4\\x9dI<@\\xdc\\xa6\\xaeq]P\\x19@e\\x0f.S\\xa4\\xd7<@\\x8b\\xaa\\xaf\\xf1\\xa7\\x8c\\x1a@/\\xfcw8\\xf8.=@\\xaa\\x19h.B< @\\xa4)g\\x96\\xcf\\x11=@L\\x03A\\x81\\x92\\x0e\\x1b@\\xdf&z\\xcf\\x91\\xfb=@\\x80\\xb9\\x0f\\x823\\xe9 @A\\x8f\\x8e\\xd2\\xd3\\x06?@\\x0e\\x9b\\x16$\\xb4\\xa1\\x18@\\xbb\\x12AkGX>@;8\\x95\\xa9\\xd6\\x0c\\x19@\\x08\\xad_)\\x98\\xfd>@\\x87\\x81\\x95\\x93Z\\x7f\\x17@)$\\xbe-\\xb75?@\\x83\\xb3\\x07i\\xfa\\xfd\\x13@U\\x95\\x0bz\\xdfT@@\\xd3\\x93\\x1a\\xeeEF\\x13@\\x0c\\xe9\\xcc\\xd7\\xea:?@k\\xa2\\x11C\\x83\\xa9\\x0f@\\xfa\\x12;\\xbbW\\x19?@\\xdf\\xd0\\xc8\\x86\\xae\\x82\\x07@\\xe2\\xda\\xc1\\xb8\\x9b\\x82>@\\xaf\\xa1\\xac\\x81uv\\x0b@[/\\x83/,\\x8c=@\\xfe'\n",
      "ID: 73549, Geometry (BLOB): b'\\x00\\x01\\xe6\\x10\\x00\\x00\\x16\\x9a\\x7f|\"\\x812@gd\\xa5N\\xb0\\x9e3@\\xe3T=\\x88\\xee\\xbf6@\\xe9\\x17\\xe1y\\x8028@|\\x03\\x00\\x00\\x00\\x01\\x00\\x00\\x00\\x11\\x00\\x00\\x00\\xf1\\xfb\\xac\\x03\\x9b53@\\x87\\x0b\\xe1\\xf0\\x19z5@S8E\\x0eP\\xd92@\\x8b\\xce\\x1e\\xdd\\x96\\x824@.\\x14\\x80?2L3@gd\\xa5N\\xb0\\x9e3@\\x07\\xaf\\xd3\\xcf\\x94>4@9<\\xf8d\\xc2\\xb14@u\\xe73\\x1b\\xe7\\x115@\\x9b\\x97\\xa0\\xc8\\xae\\xe93@D\\\\w\\x97\\x83\\xe05@\\x02\\x98\\t\\xd7\\xecE4@\\xd7mF\\xed?q6@.\\x82\\r\\x02\\xcb\\xfe4@\\xe3T=\\x88\\xee\\xbf6@?E\\xad\\x9e\\xdb\\xe75@\\x8b\\xa5SGf=5@\\x12\\x1f\\xdd4hQ6@\\xb0\\xc2\\x02\\xd4\\xca\\xad4@\\xe8X\\xdc\\xa2\\x11W6@\\xb4\\xa1ci\\t\\xde4@\\xd6\\xac\\xffC\\xd1h7@\\x07\\xaf\\xd3\\xcf\\x94>4@\\x92\\xdd\\x80nB\\xd66@*1F\\xdd\\x95K3@\\xe9\\x17\\xe1y\\x8028@dq\\xe6M!\\xa82@\\xe2\\x82\\x9a O~7@Ys\\x87}<\\x862@]\\xe3-8A\\x9e6@\\x16\\x9a\\x7f|\"\\x812@?E\\xad\\x9e\\xdb\\xe75@\\xf1\\xfb\\xac\\x03\\x9b53@\\x87\\x0b\\xe1\\xf0\\x19z5@\\xfe'\n"
     ]
    }
   ],
   "source": [
    "cursor = conn.cursor()\n",
    "\n",
    "# Query 10 random polygons\n",
    "cursor.execute(\"SELECT id, geom FROM polygons ORDER BY RANDOM() LIMIT 10;\")\n",
    "rows = cursor.fetchall()\n",
    "\n",
    "# Print out the results and confirm that geometry is stored as a BLOB\n",
    "for row in rows:\n",
    "    polygon_id, geom = row\n",
    "    print(f\"ID: {polygon_id}, Geometry (BLOB): {geom}\")\n",
    "\n",
    "# Close the connection\n"
   ]
  },
  {
   "cell_type": "code",
   "execution_count": 46,
   "id": "c452eacb-18ea-44d0-a523-36d84461cc13",
   "metadata": {},
   "outputs": [
    {
     "data": {
      "image/svg+xml": [
       "<svg xmlns=\"http://www.w3.org/2000/svg\" xmlns:xlink=\"http://www.w3.org/1999/xlink\" width=\"100.0\" height=\"100.0\" viewBox=\"46.6053066398378 16.731818428857462 3.9929185044800306 4.093422462163044\" preserveAspectRatio=\"xMinYMin meet\"><g transform=\"matrix(1,0,0,-1,0,37.557059319877965)\"><path fill-rule=\"evenodd\" fill=\"#66cc99\" stroke=\"#555555\" stroke-width=\"0.08186844924326088\" opacity=\"0.6\" d=\"M 47.53757465693738,18.08454863522725 L 48.001439550022624,16.883426668196833 L 49.29750212495033,16.921457811011177 L 50.20483444205495,17.771328626858374 L 49.981851970187044,18.89687746460599 L 50.446616904978455,20.19809154419341 L 49.23295212683649,20.673632651681135 L 48.158939480825666,20.425593316876373 L 46.756914879177174,20.276388822430732 L 46.95573292450152,18.89687746460599 L 47.53757465693738,18.08454863522725 z\" /></g></svg>"
      ],
      "text/plain": [
       "<POLYGON ((47.538 18.085, 48.001 16.883, 49.298 16.921, 50.205 17.771, 49.98...>"
      ]
     },
     "execution_count": 46,
     "metadata": {},
     "output_type": "execute_result"
    }
   ],
   "source": [
    "search_polygon.sc"
   ]
  },
  {
   "cell_type": "code",
   "execution_count": 70,
   "id": "a18da337-d29e-4e9a-a829-efd98621f72c",
   "metadata": {},
   "outputs": [
    {
     "name": "stdout",
     "output_type": "stream",
     "text": [
      "89.99999999999991\n",
      "len(rows)=8216\n",
      "90.0\n",
      "len(rows)=17865\n",
      "90.00000000000013\n",
      "len(rows)=16898\n",
      "90.00000000000003\n",
      "len(rows)=9980\n",
      "90.00000000000007\n",
      "len(rows)=14723\n",
      "89.99999999999996\n",
      "len(rows)=15730\n",
      "89.99999999999999\n",
      "len(rows)=10473\n",
      "90.00000000000006\n",
      "len(rows)=17844\n",
      "455 ms ± 71.2 ms per loop (mean ± std. dev. of 7 runs, 1 loop each)\n"
     ]
    }
   ],
   "source": [
    "%%timeit\n",
    "search_polygon = generate_random_polygon()\n",
    "\n",
    "\n",
    "scale_factor=3\n",
    "search_polygon=scale(search_polygon,xfact=scale_factor,yfact=scale_factor,origin=\"centroid\")\n",
    "search_polygon\n",
    "print(search_polygon.area)\n",
    "\n",
    "search_wkt = dumps(search_polygon)\n",
    "\n",
    "# Query for intersections with the new polygon\n",
    "# cursor.execute(\"\"\"\n",
    "# SELECT id, AsText(ST_Envelope(geom)) AS bbox\n",
    "# FROM polygons\n",
    "# WHERE ST_Intersects(geom, GeomFromText(?, 4326));\n",
    "# \"\"\", (search_wkt,))\n",
    "\n",
    "\n",
    "\n",
    "#----------\n",
    "#----------\n",
    "\n",
    "\n",
    "# #--- get the whole thing as geojson\n",
    "# cursor.execute(\"\"\"\n",
    "# SELECT id, AsGeoJSON((geom)) AS bbox\n",
    "# FROM polygons\n",
    "# WHERE ST_Intersects((geom), ST_Envelope(GeomFromText(?, 4326)));\n",
    "# \"\"\", (search_wkt,))\n",
    "\n",
    "# #--- get the whole thing as geojson\n",
    "# cursor.execute(\"\"\"\n",
    "# SELECT id, AsGeoJSON((geom)) AS bbox\n",
    "# FROM polygons\n",
    "# WHERE ST_Intersects(ST_Envelope(geom), ST_Envelope(GeomFromText(?, 4326)));\n",
    "# \"\"\", (search_wkt,))\n",
    "\n",
    "#--- get the whole thing as geojson\n",
    "cursor.execute(\"\"\"\n",
    "SELECT id, AsGeoJSON((geom)) AS bbox\n",
    "FROM polygons\n",
    "WHERE ST_Intersects(geom, GeomFromText(?, 4326));\n",
    "\"\"\", (search_wkt,))\n",
    "\n",
    "\n",
    "# #--- getthe centroid as geojson\n",
    "# cursor.execute(\"\"\"\n",
    "# SELECT id, AsGeoJSON(ST_Centroid(geom)) AS bbox\n",
    "# FROM polygons\n",
    "# WHERE ST_Intersects(geom, GeomFromText(?, 4326));\n",
    "# \"\"\", (search_wkt,))\n",
    "\n",
    "# #--- ID only as baesline\n",
    "# cursor.execute(\"\"\"\n",
    "# SELECT id \n",
    "# FROM polygons\n",
    "# WHERE ST_Intersects(geom, GeomFromText(?, 4326));\n",
    "# \"\"\", (search_wkt,))\n",
    "\n",
    "\n",
    "#--------- only count\n",
    "# cursor.execute(\"\"\"\n",
    "# SELECT count(*)\n",
    "# FROM polygons\n",
    "# WHERE ST_Intersects(geom, GeomFromText(?, 4326));\n",
    "# \"\"\", (search_wkt,))\n",
    "\n",
    "\n",
    "#----------\n",
    "#----------\n",
    "\n",
    "# # Print the bounding box of the query polygon\n",
    "# search_bbox = search_polygon.bounds\n",
    "# print(f\"Query Polygon Bounding Box: {search_bbox}\")\n",
    "\n",
    "\n",
    "# Print the resulting IDs and bounding boxes\n",
    "rows = cursor.fetchall()\n",
    "print(f\"{len(rows)=}\")\n",
    "# for row in rows:\n",
    "#     polygon_id, bbox = row\n",
    "#     print(f\"ID: {polygon_id}, Bounding Box: {bbox}\")"
   ]
  },
  {
   "cell_type": "code",
   "execution_count": 64,
   "id": "952275fd-0e02-439c-9e57-ab59b4e393fd",
   "metadata": {},
   "outputs": [
    {
     "name": "stdout",
     "output_type": "stream",
     "text": [
      "len(rows)=10633\n",
      "len(rows)=15642\n",
      "len(rows)=17300\n",
      "len(rows)=17183\n",
      "len(rows)=13951\n",
      "len(rows)=17385\n",
      "len(rows)=11955\n",
      "len(rows)=9968\n",
      "669 ms ± 100 ms per loop (mean ± std. dev. of 7 runs, 1 loop each)\n"
     ]
    }
   ],
   "source": [
    "%%timeit\n",
    "\n",
    "search_polygon = generate_random_polygon()\n",
    "\n",
    "scale_factor=3\n",
    "search_polygon=scale(search_polygon,xfact=scale_factor,yfact=scale_factor,origin=\"centroid\")\n",
    "\n",
    "# search_polygon\n",
    "# print(search_polygon.area)\n",
    "\n",
    "search_wkt = dumps(search_polygon)\n",
    "\n",
    "\n",
    "cursor.execute(\"\"\"\n",
    "with FilteredData AS (\n",
    "    SELECT id, geom\n",
    "    FROM polygons\n",
    "    WHERE ST_Intersects(geom, GeomFromText(?, 4326))\n",
    "),\n",
    "RowCount AS (\n",
    "    SELECT COUNT(*) AS cnt FROM FilteredData\n",
    ")\n",
    "\n",
    "-- Conditionally select columns based on the row count\n",
    "SELECT \n",
    "    id,\n",
    "    CASE \n",
    "        WHEN cnt < 20000 THEN AsGeoJSON(geom)\n",
    "        ELSE AsGeoJSON(ST_Centroid(geom))\n",
    "    END AS result\n",
    "FROM FilteredData, RowCount\n",
    "\"\"\", (search_wkt,))\n",
    "\n",
    "# Print the resulting IDs and bounding boxes\n",
    "rows = cursor.fetchall()\n",
    "print(f\"{len(rows)=}\")\n",
    "\n",
    "# for row in rows:\n",
    "#     polygon_id, bbox = row\n",
    "#     print(f\"ID: {polygon_id}, Bounding Box: {bbox}\")\n"
   ]
  },
  {
   "cell_type": "code",
   "execution_count": null,
   "id": "38400af8-e274-4527-906d-e01dff4ae3a0",
   "metadata": {},
   "outputs": [],
   "source": []
  }
 ],
 "metadata": {
  "kernelspec": {
   "display_name": "Python 3 (ipykernel)",
   "language": "python",
   "name": "python3"
  },
  "language_info": {
   "codemirror_mode": {
    "name": "ipython",
    "version": 3
   },
   "file_extension": ".py",
   "mimetype": "text/x-python",
   "name": "python",
   "nbconvert_exporter": "python",
   "pygments_lexer": "ipython3",
   "version": "3.8.10"
  }
 },
 "nbformat": 4,
 "nbformat_minor": 5
}
