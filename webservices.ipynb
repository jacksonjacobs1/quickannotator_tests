{
 "cells": [
  {
   "cell_type": "code",
   "execution_count": 3,
   "metadata": {},
   "outputs": [
    {
     "name": "stderr",
     "output_type": "stream",
     "text": [
      "2024-09-16 19:19:25,574\tINFO worker.py:1777 -- Started a local Ray instance. View the dashboard at \u001b[1m\u001b[32m127.0.0.1:8265 \u001b[39m\u001b[22m\n",
      "INFO 2024-09-16 19:19:27,269 serve 168671 api.py:277 - Started Serve in namespace \"serve\".\n",
      "\u001b[36m(ProxyActor pid=172168)\u001b[0m INFO 2024-09-16 19:19:27,255 proxy 10.44.79.39 proxy.py:1188 - Proxy starting on node 86896d6b5e140f94a9c9852ebad1ea7488ab299c74b2f76cf4321885 (HTTP port: 8000).\n",
      "\u001b[36m(ServeController pid=172078)\u001b[0m INFO 2024-09-16 19:19:27,374 controller 172078 deployment_state.py:1598 - Deploying new version of Deployment(name='FastAPIWrapper', app='default') (initial target replicas: 1).\n",
      "\u001b[36m(ServeController pid=172078)\u001b[0m INFO 2024-09-16 19:19:27,478 controller 172078 deployment_state.py:1844 - Adding 1 replica to Deployment(name='FastAPIWrapper', app='default').\n",
      "INFO 2024-09-16 19:19:28,280 serve 168671 client.py:492 - Deployment 'FastAPIWrapper:23l9rpw3' is ready at `http://127.0.0.1:8000/`. component=serve deployment=FastAPIWrapper\n",
      "INFO 2024-09-16 19:19:28,284 serve 168671 api.py:549 - Deployed app 'default' successfully.\n"
     ]
    },
    {
     "name": "stderr",
     "output_type": "stream",
     "text": [
      "\u001b[36m(ServeReplica:default:FastAPIWrapper pid=172268)\u001b[0m INFO 2024-09-16 19:19:28,305 default_FastAPIWrapper s6op3rql 6680e429-e855-47e6-8439-0c72208de182 / replica.py:376 - __CALL__ OK 10.3ms\n",
      "\u001b[36m(ServeReplica:default:FastAPIWrapper pid=172268)\u001b[0m INFO 2024-09-16 19:20:16,771 default_FastAPIWrapper s6op3rql 2c0d768a-fcb7-4d58-a7e6-be3447365827 /` replica.py:376 - __CALL__ OK 3.5ms\n",
      "\u001b[36m(ServeReplica:default:FastAPIWrapper pid=172268)\u001b[0m INFO 2024-09-16 19:20:16,856 default_FastAPIWrapper s6op3rql 78f217ba-1970-4fb8-b720-91ea13650436 /favicon.ico replica.py:376 - __CALL__ OK 0.8ms\n"
     ]
    }
   ],
   "source": [
    "import ray\n",
    "import requests\n",
    "from fastapi import FastAPI\n",
    "from ray import serve\n",
    "\n",
    "app = FastAPI()\n",
    "\n",
    "\n",
    "@app.get(\"/\")\n",
    "def f():\n",
    "    return \"Hello from the root!\"\n",
    "\n",
    "\n",
    "@serve.deployment\n",
    "@serve.ingress(app)\n",
    "class FastAPIWrapper:\n",
    "    pass\n",
    "\n",
    "\n",
    "serve.run(FastAPIWrapper.bind(), route_prefix=\"/\")\n",
    "resp = requests.get(\"http://localhost:8000/\")\n",
    "assert resp.json() == \"Hello from the root!\""
   ]
  },
  {
   "cell_type": "code",
   "execution_count": 4,
   "metadata": {},
   "outputs": [],
   "source": [
    "ray.shutdown()"
   ]
  },
  {
   "cell_type": "code",
   "execution_count": null,
   "metadata": {},
   "outputs": [],
   "source": []
  }
 ],
 "metadata": {
  "kernelspec": {
   "display_name": "venv",
   "language": "python",
   "name": "python3"
  },
  "language_info": {
   "codemirror_mode": {
    "name": "ipython",
    "version": 3
   },
   "file_extension": ".py",
   "mimetype": "text/x-python",
   "name": "python",
   "nbconvert_exporter": "python",
   "pygments_lexer": "ipython3",
   "version": "3.10.12"
  }
 },
 "nbformat": 4,
 "nbformat_minor": 2
}
