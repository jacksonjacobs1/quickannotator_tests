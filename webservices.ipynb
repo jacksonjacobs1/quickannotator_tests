{
 "cells": [
  {
   "cell_type": "code",
   "execution_count": 3,
   "metadata": {},
   "outputs": [
    {
     "name": "stderr",
     "output_type": "stream",
     "text": [
      "2024-09-16 19:19:25,574\tINFO worker.py:1777 -- Started a local Ray instance. View the dashboard at \u001b[1m\u001b[32m127.0.0.1:8265 \u001b[39m\u001b[22m\n",
      "INFO 2024-09-16 19:19:27,269 serve 168671 api.py:277 - Started Serve in namespace \"serve\".\n",
      "\u001b[36m(ProxyActor pid=172168)\u001b[0m INFO 2024-09-16 19:19:27,255 proxy 10.44.79.39 proxy.py:1188 - Proxy starting on node 86896d6b5e140f94a9c9852ebad1ea7488ab299c74b2f76cf4321885 (HTTP port: 8000).\n",
      "\u001b[36m(ServeController pid=172078)\u001b[0m INFO 2024-09-16 19:19:27,374 controller 172078 deployment_state.py:1598 - Deploying new version of Deployment(name='FastAPIWrapper', app='default') (initial target replicas: 1).\n",
      "\u001b[36m(ServeController pid=172078)\u001b[0m INFO 2024-09-16 19:19:27,478 controller 172078 deployment_state.py:1844 - Adding 1 replica to Deployment(name='FastAPIWrapper', app='default').\n",
      "INFO 2024-09-16 19:19:28,280 serve 168671 client.py:492 - Deployment 'FastAPIWrapper:23l9rpw3' is ready at `http://127.0.0.1:8000/`. component=serve deployment=FastAPIWrapper\n",
      "INFO 2024-09-16 19:19:28,284 serve 168671 api.py:549 - Deployed app 'default' successfully.\n"
     ]
    },
    {
     "name": "stderr",
     "output_type": "stream",
     "text": [
      "\u001b[36m(ServeReplica:default:FastAPIWrapper pid=172268)\u001b[0m INFO 2024-09-16 19:19:28,305 default_FastAPIWrapper s6op3rql 6680e429-e855-47e6-8439-0c72208de182 / replica.py:376 - __CALL__ OK 10.3ms\n",
      "\u001b[36m(ServeReplica:default:FastAPIWrapper pid=172268)\u001b[0m INFO 2024-09-16 19:20:16,771 default_FastAPIWrapper s6op3rql 2c0d768a-fcb7-4d58-a7e6-be3447365827 /` replica.py:376 - __CALL__ OK 3.5ms\n",
      "\u001b[36m(ServeReplica:default:FastAPIWrapper pid=172268)\u001b[0m INFO 2024-09-16 19:20:16,856 default_FastAPIWrapper s6op3rql 78f217ba-1970-4fb8-b720-91ea13650436 /favicon.ico replica.py:376 - __CALL__ OK 0.8ms\n"
     ]
    }
   ],
   "source": [
    "import ray\n",
    "import requests\n",
    "from fastapi import FastAPI\n",
    "from ray import serve\n",
    "\n",
    "app = FastAPI()\n",
    "\n",
    "\n",
    "@app.get(\"/\")\n",
    "def f():\n",
    "    return \"Hello from the root!\"\n",
    "\n",
    "\n",
    "@serve.deployment\n",
    "@serve.ingress(app)\n",
    "class FastAPIWrapper:\n",
    "    pass\n",
    "\n",
    "\n",
    "serve.run(FastAPIWrapper.bind(), route_prefix=\"/\")\n",
    "resp = requests.get(\"http://localhost:8000/\")\n",
    "assert resp.json() == \"Hello from the root!\""
   ]
  },
  {
   "cell_type": "code",
   "execution_count": 4,
   "metadata": {},
   "outputs": [],
   "source": [
    "ray.shutdown()"
   ]
  },
  {
   "cell_type": "code",
   "execution_count": 2,
   "metadata": {},
   "outputs": [
    {
     "ename": "TypeError",
     "evalue": "Failed to serialize the FastAPI app.:\n==============================================\nChecking Serializability of <Flask '__main__'>\n==============================================\n\u001b[31m!!! FAIL\u001b[39m serialization: cannot pickle 'weakref.ReferenceType' object\n    Serializing '_get_exc_class_and_code' <function Scaffold._get_exc_class_and_code at 0x7f8e007efeb0>...\n    Serializing '_check_setup_finished' <bound method App._check_setup_finished of <Flask '__main__'>>...\n    \u001b[31m!!! FAIL\u001b[39m serialization: cannot pickle 'weakref.ReferenceType' object\n        Serializing '__func__' <function App._check_setup_finished at 0x7f8e00810280>...\n    WARNING: Did not find non-serializable object in <bound method App._check_setup_finished of <Flask '__main__'>>. This may be an oversight.\n==============================================\nVariable: \n\n\t\u001b[1mFailTuple(_check_setup_finished [obj=<bound method App._check_setup_finished of <Flask '__main__'>>, parent=<Flask '__main__'>])\u001b[0m\n\nwas found to be non-serializable. There may be multiple other undetected variables that were non-serializable. \nConsider either removing the instantiation/imports of these variables or moving the instantiation into the scope of the function/class. \n==============================================\nCheck https://docs.ray.io/en/master/ray-core/objects/serialization.html#troubleshooting for more information.\nIf you have any suggestions on how to improve this error message, please reach out to the Ray developers on github.com/ray-project/ray/issues/\n==============================================\n",
     "output_type": "error",
     "traceback": [
      "\u001b[0;31m---------------------------------------------------------------------------\u001b[0m",
      "\u001b[0;31mTypeError\u001b[0m                                 Traceback (most recent call last)",
      "File \u001b[0;32m~/research/code/quick-annotator-exploration/quickannotator_tests/venv/lib/python3.10/site-packages/ray/_private/serialization.py:67\u001b[0m, in \u001b[0;36mpickle_dumps\u001b[0;34m(obj, error_msg)\u001b[0m\n\u001b[1;32m     66\u001b[0m \u001b[38;5;28;01mtry\u001b[39;00m:\n\u001b[0;32m---> 67\u001b[0m     \u001b[38;5;28;01mreturn\u001b[39;00m \u001b[43mpickle\u001b[49m\u001b[38;5;241;43m.\u001b[39;49m\u001b[43mdumps\u001b[49m\u001b[43m(\u001b[49m\u001b[43mobj\u001b[49m\u001b[43m)\u001b[49m\n\u001b[1;32m     68\u001b[0m \u001b[38;5;28;01mexcept\u001b[39;00m \u001b[38;5;167;01mTypeError\u001b[39;00m \u001b[38;5;28;01mas\u001b[39;00m e:\n",
      "File \u001b[0;32m~/research/code/quick-annotator-exploration/quickannotator_tests/venv/lib/python3.10/site-packages/ray/cloudpickle/cloudpickle.py:1479\u001b[0m, in \u001b[0;36mdumps\u001b[0;34m(obj, protocol, buffer_callback)\u001b[0m\n\u001b[1;32m   1478\u001b[0m cp \u001b[38;5;241m=\u001b[39m Pickler(file, protocol\u001b[38;5;241m=\u001b[39mprotocol, buffer_callback\u001b[38;5;241m=\u001b[39mbuffer_callback)\n\u001b[0;32m-> 1479\u001b[0m \u001b[43mcp\u001b[49m\u001b[38;5;241;43m.\u001b[39;49m\u001b[43mdump\u001b[49m\u001b[43m(\u001b[49m\u001b[43mobj\u001b[49m\u001b[43m)\u001b[49m\n\u001b[1;32m   1480\u001b[0m \u001b[38;5;28;01mreturn\u001b[39;00m file\u001b[38;5;241m.\u001b[39mgetvalue()\n",
      "File \u001b[0;32m~/research/code/quick-annotator-exploration/quickannotator_tests/venv/lib/python3.10/site-packages/ray/cloudpickle/cloudpickle.py:1245\u001b[0m, in \u001b[0;36mPickler.dump\u001b[0;34m(self, obj)\u001b[0m\n\u001b[1;32m   1244\u001b[0m \u001b[38;5;28;01mtry\u001b[39;00m:\n\u001b[0;32m-> 1245\u001b[0m     \u001b[38;5;28;01mreturn\u001b[39;00m \u001b[38;5;28;43msuper\u001b[39;49m\u001b[43m(\u001b[49m\u001b[43m)\u001b[49m\u001b[38;5;241;43m.\u001b[39;49m\u001b[43mdump\u001b[49m\u001b[43m(\u001b[49m\u001b[43mobj\u001b[49m\u001b[43m)\u001b[49m\n\u001b[1;32m   1246\u001b[0m \u001b[38;5;28;01mexcept\u001b[39;00m \u001b[38;5;167;01mRuntimeError\u001b[39;00m \u001b[38;5;28;01mas\u001b[39;00m e:\n",
      "\u001b[0;31mTypeError\u001b[0m: cannot pickle 'weakref.ReferenceType' object",
      "\nThe above exception was the direct cause of the following exception:\n",
      "\u001b[0;31mTypeError\u001b[0m                                 Traceback (most recent call last)",
      "Cell \u001b[0;32mIn[2], line 16\u001b[0m\n\u001b[1;32m      9\u001b[0m \u001b[38;5;129m@app\u001b[39m\u001b[38;5;241m.\u001b[39mroute(\u001b[38;5;124m\"\u001b[39m\u001b[38;5;124m/\u001b[39m\u001b[38;5;124m\"\u001b[39m, methods\u001b[38;5;241m=\u001b[39m[\u001b[38;5;124m\"\u001b[39m\u001b[38;5;124mGET\u001b[39m\u001b[38;5;124m\"\u001b[39m])\n\u001b[1;32m     10\u001b[0m \u001b[38;5;28;01mdef\u001b[39;00m \u001b[38;5;21mf\u001b[39m():\n\u001b[1;32m     11\u001b[0m     \u001b[38;5;28;01mreturn\u001b[39;00m \u001b[38;5;124m\"\u001b[39m\u001b[38;5;124mHello from the root!\u001b[39m\u001b[38;5;124m\"\u001b[39m\n\u001b[1;32m     14\u001b[0m \u001b[38;5;129;43m@serve\u001b[39;49m\u001b[38;5;241;43m.\u001b[39;49m\u001b[43mdeployment\u001b[49m\n\u001b[1;32m     15\u001b[0m \u001b[38;5;129;43m@serve\u001b[39;49m\u001b[38;5;241;43m.\u001b[39;49m\u001b[43mingress\u001b[49m\u001b[43m(\u001b[49m\u001b[43mapp\u001b[49m\u001b[43m)\u001b[49m\n\u001b[0;32m---> 16\u001b[0m \u001b[38;5;28;43;01mclass\u001b[39;49;00m\u001b[43m \u001b[49m\u001b[38;5;21;43;01mFlaskAppWrapper\u001b[39;49;00m\u001b[43m:\u001b[49m\n\u001b[1;32m     17\u001b[0m \u001b[43m    \u001b[49m\u001b[38;5;28;43;01mpass\u001b[39;49;00m\n\u001b[1;32m     20\u001b[0m serve\u001b[38;5;241m.\u001b[39mrun(FlaskAppWrapper\u001b[38;5;241m.\u001b[39mbind(), route_prefix\u001b[38;5;241m=\u001b[39m\u001b[38;5;124m\"\u001b[39m\u001b[38;5;124m/\u001b[39m\u001b[38;5;124m\"\u001b[39m)\n",
      "File \u001b[0;32m~/research/code/quick-annotator-exploration/quickannotator_tests/venv/lib/python3.10/site-packages/ray/serve/api.py:213\u001b[0m, in \u001b[0;36mingress.<locals>.decorator\u001b[0;34m(cls)\u001b[0m\n\u001b[1;32m    208\u001b[0m \u001b[38;5;66;03m# Free the state of the app so subsequent modification won't affect\u001b[39;00m\n\u001b[1;32m    209\u001b[0m \u001b[38;5;66;03m# this ingress deployment. We don't use copy.copy here to avoid\u001b[39;00m\n\u001b[1;32m    210\u001b[0m \u001b[38;5;66;03m# recursion issue.\u001b[39;00m\n\u001b[1;32m    211\u001b[0m ensure_serialization_context()\n\u001b[1;32m    212\u001b[0m frozen_app \u001b[38;5;241m=\u001b[39m cloudpickle\u001b[38;5;241m.\u001b[39mloads(\n\u001b[0;32m--> 213\u001b[0m     \u001b[43mpickle_dumps\u001b[49m\u001b[43m(\u001b[49m\u001b[43mapp\u001b[49m\u001b[43m,\u001b[49m\u001b[43m \u001b[49m\u001b[43merror_msg\u001b[49m\u001b[38;5;241;43m=\u001b[39;49m\u001b[38;5;124;43m\"\u001b[39;49m\u001b[38;5;124;43mFailed to serialize the FastAPI app.\u001b[39;49m\u001b[38;5;124;43m\"\u001b[39;49m\u001b[43m)\u001b[49m\n\u001b[1;32m    214\u001b[0m )\n\u001b[1;32m    216\u001b[0m \u001b[38;5;28;01mclass\u001b[39;00m \u001b[38;5;21;01mASGIIngressWrapper\u001b[39;00m(\u001b[38;5;28mcls\u001b[39m, ASGIAppReplicaWrapper):\n\u001b[1;32m    217\u001b[0m     \u001b[38;5;28;01mdef\u001b[39;00m \u001b[38;5;21m__init__\u001b[39m(\u001b[38;5;28mself\u001b[39m, \u001b[38;5;241m*\u001b[39margs, \u001b[38;5;241m*\u001b[39m\u001b[38;5;241m*\u001b[39mkwargs):\n\u001b[1;32m    218\u001b[0m         \u001b[38;5;66;03m# Call user-defined constructor.\u001b[39;00m\n",
      "File \u001b[0;32m~/research/code/quick-annotator-exploration/quickannotator_tests/venv/lib/python3.10/site-packages/ray/_private/serialization.py:72\u001b[0m, in \u001b[0;36mpickle_dumps\u001b[0;34m(obj, error_msg)\u001b[0m\n\u001b[1;32m     70\u001b[0m inspect_serializability(obj, print_file\u001b[38;5;241m=\u001b[39msio)\n\u001b[1;32m     71\u001b[0m msg \u001b[38;5;241m=\u001b[39m \u001b[38;5;124mf\u001b[39m\u001b[38;5;124m\"\u001b[39m\u001b[38;5;132;01m{\u001b[39;00merror_msg\u001b[38;5;132;01m}\u001b[39;00m\u001b[38;5;124m:\u001b[39m\u001b[38;5;130;01m\\n\u001b[39;00m\u001b[38;5;132;01m{\u001b[39;00msio\u001b[38;5;241m.\u001b[39mgetvalue()\u001b[38;5;132;01m}\u001b[39;00m\u001b[38;5;124m\"\u001b[39m\n\u001b[0;32m---> 72\u001b[0m \u001b[38;5;28;01mraise\u001b[39;00m \u001b[38;5;167;01mTypeError\u001b[39;00m(msg) \u001b[38;5;28;01mfrom\u001b[39;00m \u001b[38;5;21;01me\u001b[39;00m\n",
      "\u001b[0;31mTypeError\u001b[0m: Failed to serialize the FastAPI app.:\n==============================================\nChecking Serializability of <Flask '__main__'>\n==============================================\n\u001b[31m!!! FAIL\u001b[39m serialization: cannot pickle 'weakref.ReferenceType' object\n    Serializing '_get_exc_class_and_code' <function Scaffold._get_exc_class_and_code at 0x7f8e007efeb0>...\n    Serializing '_check_setup_finished' <bound method App._check_setup_finished of <Flask '__main__'>>...\n    \u001b[31m!!! FAIL\u001b[39m serialization: cannot pickle 'weakref.ReferenceType' object\n        Serializing '__func__' <function App._check_setup_finished at 0x7f8e00810280>...\n    WARNING: Did not find non-serializable object in <bound method App._check_setup_finished of <Flask '__main__'>>. This may be an oversight.\n==============================================\nVariable: \n\n\t\u001b[1mFailTuple(_check_setup_finished [obj=<bound method App._check_setup_finished of <Flask '__main__'>>, parent=<Flask '__main__'>])\u001b[0m\n\nwas found to be non-serializable. There may be multiple other undetected variables that were non-serializable. \nConsider either removing the instantiation/imports of these variables or moving the instantiation into the scope of the function/class. \n==============================================\nCheck https://docs.ray.io/en/master/ray-core/objects/serialization.html#troubleshooting for more information.\nIf you have any suggestions on how to improve this error message, please reach out to the Ray developers on github.com/ray-project/ray/issues/\n==============================================\n"
     ]
    }
   ],
   "source": [
    "import ray\n",
    "import requests\n",
    "from flask import Flask\n",
    "from ray import serve\n",
    "\n",
    "app = Flask(__name__)\n",
    "\n",
    "\n",
    "@app.route(\"/\", methods=[\"GET\"])\n",
    "def f():\n",
    "    return \"Hello from the root!\"\n",
    "\n",
    "\n",
    "@serve.deployment\n",
    "@serve.ingress(app)\n",
    "class FlaskAppWrapper:\n",
    "    pass\n",
    "\n",
    "\n",
    "serve.run(FlaskAppWrapper.bind(), route_prefix=\"/\")\n",
    "resp = requests.get(\"http://localhost:8000/\")\n",
    "assert resp.json() == \"Hello from the root!\""
   ]
  },
  {
   "cell_type": "code",
   "execution_count": 3,
   "metadata": {},
   "outputs": [],
   "source": [
    "ray.shutdown()"
   ]
  },
  {
   "cell_type": "code",
   "execution_count": null,
   "metadata": {},
   "outputs": [],
   "source": []
  }
 ],
 "metadata": {
  "kernelspec": {
   "display_name": "venv",
   "language": "python",
   "name": "python3"
  },
  "language_info": {
   "codemirror_mode": {
    "name": "ipython",
    "version": 3
   },
   "file_extension": ".py",
   "mimetype": "text/x-python",
   "name": "python",
   "nbconvert_exporter": "python",
   "pygments_lexer": "ipython3",
   "version": "3.10.12"
  }
 },
 "nbformat": 4,
 "nbformat_minor": 2
}
